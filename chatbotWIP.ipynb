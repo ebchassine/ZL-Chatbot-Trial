{
 "cells": [
  {
   "cell_type": "code",
   "execution_count": 6,
   "id": "730cd44e-8022-4f40-9975-927745a86617",
   "metadata": {},
   "outputs": [],
   "source": [
    "import os\n",
    "from openai import OpenAI\n",
    "import PyPDF2\n",
    "import ipywidgets as widgets\n",
    "from IPython.display import display"
   ]
  },
  {
   "cell_type": "code",
   "execution_count": 7,
   "id": "1f278241-14cf-42d9-a564-629a4861b94d",
   "metadata": {},
   "outputs": [],
   "source": [
    "client = OpenAI(\n",
    "    api_key=os.environ.get(\"OPENAI_API_KEY\"),  # This is the default and can be omitted\n",
    ")\n",
    "pdf_path = \"test.pdf\""
   ]
  },
  {
   "cell_type": "code",
   "execution_count": 8,
   "id": "1f3ce07f-b134-4c90-b6c8-e90663511179",
   "metadata": {},
   "outputs": [],
   "source": [
    "def extract_text_from_pdf(pdf_path):\n",
    "    \"\"\"Extracts text from a given PDF file.\"\"\"\n",
    "    text = \"\"\n",
    "    try:\n",
    "        with open(pdf_path, \"rb\") as file:\n",
    "            pdf_reader = PyPDF2.PdfReader(file)\n",
    "            for page in pdf_reader.pages:\n",
    "                page_text = page.extract_text()\n",
    "                if page_text:\n",
    "                    text += page_text + \"\\n\"\n",
    "        print(\"PDF text successfully extracted!\")\n",
    "    except Exception as e:\n",
    "        print(f\"Error extracting text from PDF: {e}\")\n",
    "    return text"
   ]
  },
  {
   "cell_type": "code",
   "execution_count": 9,
   "id": "55d30628-68b9-4ff6-9e48-03529618360f",
   "metadata": {},
   "outputs": [
    {
     "name": "stdout",
     "output_type": "stream",
     "text": [
      "PDF text successfully extracted!\n"
     ]
    }
   ],
   "source": [
    "pdf_text = extract_text_from_pdf(pdf_path)\n",
    "# print(pdf_text)\n",
    "faq_urls = [\n",
    "    \"https://support.zenledger.io/en/articles/4242017-how-can-i-get-a-backup-of-all-of-my-transactions\",\n",
    "    \"https://support.zenledger.io/en/articles/4120083-how-can-i-review-past-support-chats\",\n",
    "    \"https://support.zenledger.io/en/articles/3963025-what-do-i-do-if-my-exchange-has-closed-to-customers-in-my-country\"\n",
    "]"
   ]
  },
  {
   "cell_type": "code",
   "execution_count": 16,
   "id": "b946d762-e63e-4045-92e7-b7a6e9197b75",
   "metadata": {},
   "outputs": [],
   "source": [
    "def ask_openai(prompt, userMessages, gptModel=\"gpt-4o-mini\", gptT=0.7, gptMaxTokens=64):\n",
    "    try:\n",
    "        response = client.chat.completions.create(\n",
    "            model=gptModel,\n",
    "            messages=userMessages,\n",
    "            max_tokens=gptMaxTokens,\n",
    "            temperature=gptT,\n",
    "            top_p=1\n",
    "        )\n",
    "        # val.choices[0].message.content)\n",
    "        return response.choices[0].message.content\n",
    "        \n",
    "    except Exception as e:\n",
    "        return f\"Error communicating with OpenAI API: {e}\""
   ]
  },
  {
   "cell_type": "code",
   "execution_count": 17,
   "id": "7fe6fa59-2ab3-4196-9b56-6592a27e9aa5",
   "metadata": {},
   "outputs": [],
   "source": [
    "input_box = widgets.Text(placeholder=\"Ask a question about crypto tax...\")\n",
    "output_area = widgets.Output()"
   ]
  },
  {
   "cell_type": "code",
   "execution_count": 20,
   "id": "752a7b42-12f9-45db-8c2b-ff678fcdf57e",
   "metadata": {},
   "outputs": [],
   "source": [
    "def main():\n",
    "    print(\"Crypto Tax Service Chatbot (Type 'exit' to quit)\")\n",
    "    userMessages = [\n",
    "    {\"role\": \"assistant\", \"content\": f\"You are a chatbot to replace an FAQ for Zenledger, a crypto tax service, where you interface with CPAs.  You are basing your information on this pdf: {pdf_text}\"},\n",
    "    ]\n",
    "    while True:\n",
    "        userQuestion = input(\"Ask a question about crypto tax: \")\n",
    "        if userQuestion.lower() in ['exit', 'q', 'quit']:\n",
    "            print(\"Goodbye!\")\n",
    "            break\n",
    "        combinedPrompt = f\"The following is a question regarding your tax knowledge of Zenledger's product.  Question: {userQuestion}\"\n",
    "        userMessages.append( {\"role\":\"assistant\", \"content\":combinedPrompt} )\n",
    "        response = ask_openai(combinedPrompt, userMessages)\n",
    "        print(f\"\\n{response}\\n\")"
   ]
  },
  {
   "cell_type": "code",
   "execution_count": null,
   "id": "27fbb0ca-591c-42ff-990f-26b040bbcc95",
   "metadata": {},
   "outputs": [
    {
     "name": "stdout",
     "output_type": "stream",
     "text": [
      "Crypto Tax Service Chatbot (Type 'exit' to quit)\n"
     ]
    },
    {
     "name": "stdin",
     "output_type": "stream",
     "text": [
      "Ask a question about crypto tax:  what is the name of your service\n"
     ]
    },
    {
     "name": "stdout",
     "output_type": "stream",
     "text": [
      "\n",
      "The name of our service is Zenledger. We provide a comprehensive crypto tax solution to help users accurately report their cryptocurrency transactions and calculate their tax obligations. If you have more questions about our services or how we can assist CPAs, feel free to ask!\n",
      "\n"
     ]
    },
    {
     "name": "stdin",
     "output_type": "stream",
     "text": [
      "Ask a question about crypto tax:  what did I just ask?\n"
     ]
    },
    {
     "name": "stdout",
     "output_type": "stream",
     "text": [
      "\n",
      "You asked about the name of Zenledger's service related to crypto tax filing.\n",
      "\n"
     ]
    },
    {
     "name": "stdin",
     "output_type": "stream",
     "text": [
      "Ask a question about crypto tax:  how do I see my transaction history?\n"
     ]
    },
    {
     "name": "stdout",
     "output_type": "stream",
     "text": [
      "\n",
      "To view your transaction history in Zenledger, you can log into your account and navigate to the 'Transactions' section. Here, you should find a comprehensive list of all your crypto transactions. If you have linked your exchange accounts or wallets, Zenledger will automatically import and display your transaction history. If you need further assistance\n",
      "\n"
     ]
    }
   ],
   "source": [
    "if __name__ == \"__main__\":\n",
    "    main()\n"
   ]
  }
 ],
 "metadata": {
  "kernelspec": {
   "display_name": "Python 3 (ipykernel)",
   "language": "python",
   "name": "python3"
  },
  "language_info": {
   "codemirror_mode": {
    "name": "ipython",
    "version": 3
   },
   "file_extension": ".py",
   "mimetype": "text/x-python",
   "name": "python",
   "nbconvert_exporter": "python",
   "pygments_lexer": "ipython3",
   "version": "3.12.7"
  }
 },
 "nbformat": 4,
 "nbformat_minor": 5
}
